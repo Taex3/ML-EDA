{
 "cells": [
  {
   "cell_type": "markdown",
   "metadata": {},
   "source": [
    "แบบฝึกหัด\n",
    "\n",
    "ในแบบฝึกหัดนี้เราจะฝึกการทำงานกับโครงสร้างข้อมูลต่าง ๆ: Lists, Dictionaries, Tuples, และ Sets โครงสร้างข้อมูลเหล่านี้เป็นพื้นฐานใน Python สำหรับการจัดระเบียบและเก็บข้อมูลอย่างมีประสิทธิภาพ การฝึกฝนนี้จะช่วยให้คุณเรียนรู้การสร้าง การเข้าถึง การปรับเปลี่ยน และการจัดการข้อมูลโดยใช้โครงสร้างข้อมูลเหล่านี้\n",
    "\n",
    "Lists\n",
    "สร้าง list ชื่อว่า fruits โดยให้มีชื่อของผลไม้ 3 ชนิด\n",
    "Print list ออกมาแสดง\n",
    "เพิ่มผลไม้อีก 1 ชนิดเข้าไปใน list\n",
    "Print length ของ list\n",
    "Print element ที่ 2 ของ list\n",
    "นำผลไม้ที่อยู่ในตำแหน่งแรกออกจาก list\n",
    "Print list หลังจากการปรับเปลี่ยน\n",
    "\n",
    "Dictionaries\n",
    "สร้าง dictionaries ชื่อ student โดยมี keys \"name\", \"age\" และ \"grade\" \n",
    "ทำการเพิ่ม value ให้กับ key ต่างๆ\n",
    "Print Dictionary ออกมาแสดง\n",
    "Update ค่าของ grade ให้เป็นค่าใหม่\n",
    "Print dictionary หลังจากการ update\n",
    "Check ว่า dictionary มี key \"class\" หรือไม่และทำการ print ผลลัพธ์ออกมาแสดง\n",
    "นำ key \"age\" ออกจาก dictionary\n",
    "\n",
    "Tuples\n",
    "สร้าง tuple ชื่อว่า colors และเพิ่มชื่อสี 3 สีเข้าไป\n",
    "Print tuple ออกมาแสดง\n",
    "Print element ที่ 2 ของ tuple\n",
    "พยายามเปลี่ยน element ที่ 2 ของ tuple เป็นค่าอื่น (ดูว่ามี error อะไรขึ้น)\n",
    "Concatenate colors ด้วย tuple อีกอันหนึ่งซึ่งมีชื่อสีที่แตกต่างกัน\n",
    "Print tuple หลังจากการ concatenate\n",
    "\n",
    "Sets\n",
    "สร้าง set 2 sets ชื่อว่า set1 และ set2 และทำการใส่ตัวเลขเข้าไป\n",
    "Print set ทั้ง 2 sets ออกมาแสดง\n",
    "ทำการ union ระหว่าง 2 sets และ print ผลลัพธ์ออกมาแสดง\n",
    "ทำการ intersect ระหว่าง 2 sets และ print ผลลัพธ์ออกมาแสดง\n",
    "ทำการหา difference ระหว่าง 2 sets และ print ผลลัพธ์ออกมาแสดง"
   ]
  },
  {
   "cell_type": "code",
   "execution_count": 5,
   "metadata": {},
   "outputs": [
    {
     "name": "stdout",
     "output_type": "stream",
     "text": [
      "fruits: ['apple', 'banana', 'orange']\n",
      "Length of fruits: 3\n",
      "Second fruits: banana\n",
      "Modified fruits after removing apples: ['banana', 'orange']\n"
     ]
    }
   ],
   "source": [
    "Fruits = ['apple','banana','orange' ]\n",
    "Modified_Fruits = [x for x in Fruits if x != 'apple']\n",
    "print(f'fruits: {Fruits}')\n",
    "print(f'Length of fruits: {len(Fruits)}')\n",
    "print(f'Second fruits: {Fruits[1]}')\n",
    "print(f'Modified fruits after removing apples: {Modified_Fruits}')"
   ]
  },
  {
   "cell_type": "code",
   "execution_count": 4,
   "metadata": {},
   "outputs": [
    {
     "name": "stdout",
     "output_type": "stream",
     "text": [
      "Student: {'name': 'john', 'age': '20', 'grade': 'B'}\n",
      "Modified student grade: {'name': 'john', 'age': '20', 'grade': 'A'}\n",
      "Does the key 'class' exist? False\n",
      "Modified student after removing age: {'name': 'john', 'grade': 'A'}\n"
     ]
    }
   ],
   "source": [
    "Student = {'name' : 'john', 'age' : '20', 'grade' : 'B'}\n",
    "print(f'Student: {Student}')\n",
    "Student['grade'] = 'A'\n",
    "print(f'Modified student grade: {Student}')\n",
    "key_exists = 'class' in Student\n",
    "print(f\"Does the key 'class' exist? {key_exists}\")\n",
    "Student.pop('age', None)\n",
    "print(f\"Modified student after removing age: {Student}\")\n"
   ]
  },
  {
   "cell_type": "code",
   "execution_count": 14,
   "metadata": {},
   "outputs": [
    {
     "name": "stdout",
     "output_type": "stream",
     "text": [
      "Colors: ('red', 'green', 'blue')\n",
      "Second color: green\n",
      "Concatenated colors: ('red', 'green', 'blue', 'yellow', 'purple')\n",
      "Error: 'tuple' object does not support item assignment\n"
     ]
    }
   ],
   "source": [
    "colors = ('red', 'green', 'blue')\n",
    "print(f'Colors: {colors}')\n",
    "print(f'Second color: {colors[1]}')\n",
    "new_colors = ('yellow', 'purple')\n",
    "concatenated_colors = colors + new_colors\n",
    "print(f'Concatenated colors: {concatenated_colors}')\n",
    "\n",
    "try:\n",
    "    colors[1] = 'yellow'\n",
    "except TypeError as i:\n",
    "    print(f\"Error: {i}\")"
   ]
  },
  {
   "cell_type": "code",
   "execution_count": 15,
   "metadata": {},
   "outputs": [
    {
     "name": "stdout",
     "output_type": "stream",
     "text": [
      "Set1: {1, 2, 3}\n",
      "Set2: {3, 4, 5}\n",
      "Union: {1, 2, 3, 4, 5}\n",
      "Intersection: {3}\n",
      "Difference: {1, 2}\n"
     ]
    }
   ],
   "source": [
    "set1 = {1, 2, 3}\n",
    "set2 = {3, 4, 5}\n",
    "print(f'Set1: {set1}')\n",
    "print(f'Set2: {set2}')\n",
    "union_set = set1.union(set2)\n",
    "print(f'Union: {union_set}')\n",
    "intersection_set = set1.intersection(set2)\n",
    "print(f'Intersection: {intersection_set}')\n",
    "difference_set = set1.difference(set2)\n",
    "print(f'Difference: {difference_set}')"
   ]
  },
  {
   "cell_type": "code",
   "execution_count": null,
   "metadata": {},
   "outputs": [],
   "source": []
  }
 ],
 "metadata": {
  "kernelspec": {
   "display_name": "Python 3",
   "language": "python",
   "name": "python3"
  },
  "language_info": {
   "codemirror_mode": {
    "name": "ipython",
    "version": 3
   },
   "file_extension": ".py",
   "mimetype": "text/x-python",
   "name": "python",
   "nbconvert_exporter": "python",
   "pygments_lexer": "ipython3",
   "version": "3.10.8"
  }
 },
 "nbformat": 4,
 "nbformat_minor": 2
}
