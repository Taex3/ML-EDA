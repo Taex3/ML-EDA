{
 "cells": [
  {
   "cell_type": "code",
   "execution_count": 9,
   "metadata": {},
   "outputs": [],
   "source": [
    "class Shape:\n",
    "    def area(self): pass\n",
    "\n",
    "class Circle(Shape):\n",
    "    def __init__(self, radius):\n",
    "        self.radius = radius\n",
    "\n",
    "    def area(self):\n",
    "        return 3.14159 * self.radius * self.radius\n",
    "    \n",
    "class Square(Shape):\n",
    "    def __init__(self, side):\n",
    "        self.side = side\n",
    "\n",
    "    def area(self):\n",
    "        return self.side * self.side\n",
    "    \n",
    "class Rectangle(Shape):\n",
    "    def __init__(self, length, width):\n",
    "        self.length = length\n",
    "        self.width = width\n",
    "        \n",
    "    def area(self):\n",
    "        return self.length * self.width"
   ]
  },
  {
   "cell_type": "code",
   "execution_count": 16,
   "metadata": {},
   "outputs": [
    {
     "name": "stdout",
     "output_type": "stream",
     "text": [
      "The area of <__main__.Circle object at 0x000001CCB34FA830> is 78.53975\n",
      "The area of <__main__.Square object at 0x000001CCB34FB8E0> is 16\n",
      "The area of <__main__.Rectangle object at 0x000001CCB34FA860> is 6\n"
     ]
    }
   ],
   "source": [
    "Shapes = [Circle(5), Square(4), Rectangle(3,2)]\n",
    "\n",
    "for i in Shapes:\n",
    "    print(f'The area of {i} is {i.area()}')"
   ]
  },
  {
   "cell_type": "code",
   "execution_count": 20,
   "metadata": {},
   "outputs": [],
   "source": [
    "from abc import ABC, abstractmethod\n",
    "\n",
    "class Shape:\n",
    "    @abstractmethod\n",
    "    def area(self): pass\n",
    "\n",
    "    @abstractmethod\n",
    "    def perimeter(self): pass\n",
    "\n",
    "class Circle(Shape):\n",
    "    def __init__(self, radius):\n",
    "        self.radius = radius\n",
    "\n",
    "    def area(self):\n",
    "        return 3.14159 * self.radius * self.radius\n",
    "    \n",
    "    def perimeter(self):\n",
    "        return 2 * 3.14159 * self.radius\n",
    "    \n",
    "class Rectangle(Shape):\n",
    "    def __init__(self, length, width):\n",
    "        self.length = length\n",
    "        self.width = width\n",
    "\n",
    "    def area(self):\n",
    "        return self.length * self.width\n",
    "    \n",
    "    def perimeter(self):\n",
    "        return 2 * (self.length * self.width)"
   ]
  },
  {
   "cell_type": "code",
   "execution_count": 21,
   "metadata": {},
   "outputs": [
    {
     "name": "stdout",
     "output_type": "stream",
     "text": [
      "The area of <__main__.Circle object at 0x000001CCB34FBA00> is 78.53975\n",
      "The perimeter of <__main__.Circle object at 0x000001CCB34FBA00> is 31.4159\n",
      "The area of <__main__.Rectangle object at 0x000001CCB34FB730> is 6\n",
      "The perimeter of <__main__.Rectangle object at 0x000001CCB34FB730> is 12\n"
     ]
    }
   ],
   "source": [
    "Shapes = [Circle(5), Rectangle(3,2)]\n",
    "\n",
    "for i in Shapes:\n",
    "    print(f'The area of {i} is {i.area()}')\n",
    "    print(f'The perimeter of {i} is {i.perimeter()}')"
   ]
  }
 ],
 "metadata": {
  "kernelspec": {
   "display_name": "Python 3",
   "language": "python",
   "name": "python3"
  },
  "language_info": {
   "codemirror_mode": {
    "name": "ipython",
    "version": 3
   },
   "file_extension": ".py",
   "mimetype": "text/x-python",
   "name": "python",
   "nbconvert_exporter": "python",
   "pygments_lexer": "ipython3",
   "version": "3.10.8"
  }
 },
 "nbformat": 4,
 "nbformat_minor": 2
}
