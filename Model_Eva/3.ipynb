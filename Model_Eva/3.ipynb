{
 "cells": [
  {
   "cell_type": "markdown",
   "metadata": {},
   "source": [
    "ในแบบฝึกหัดนี้เราจะฝึกการใช้งาน String Operation และ Method String คือ sequence ของ character และ Python มี function และ method ที่มีอยู่มากมายสำหรับการจัดการกับ string การฝึกฝนนี้จะช่วยให้คุณเรียนรู้เกี่ยวกับการแบ่งข้อความ การต่อข้อความ การจัดรูปแบบ และ method ต่าง ๆ ของ string\n",
    "\n",
    "Declare variable ชื่อว่า text และ assign ค่าที่เป็น string\n",
    "Print ความยาวของ text โดยใช้ function len()\n",
    "Print ตัวอักษรแรกของ String\n",
    "Print ตัวอักษรตัวสุดท้ายของ String\n",
    "Print substring ที่มีตัวอักษร 5 ตัวแรกของ String\n",
    "Print substring ที่มีตัวอักษร 5 ตัวสุดท้ายของ String\n",
    "Concatenate string ต่อกันและ print ผลลัพธ์ออกมา\n",
    "ทำให้กลายเป็น uppercase และ print ผลลัพธ์ออกมา\n",
    "ทำให้กลายเป็น lowercase และ print ผลลัพธ์ออกมา\n",
    "ทำการแทนค่า (replace) substring ใน string ด้วย substring ค่าอื่นและ print ผลลัพธ์ออกมา\n",
    "Split string ออกเป็น list ของคำโดยใช้ split() และทำการ print ผลลัพธ์ออกมา\n",
    "Join คำที่อยู่ใน list กลับมาให้เป็นคำเดียวกันโดยใช้ separator เป็นช่องว่างและ print ผลลัพธ์ออกมา\n",
    "ตรวจสอบว่า string เริ่มต้นด้วย substring ที่กำหนดขึ้นเองโดยใช้ method ที่ชื่อว่า startswith() และทำการ print ผลลัพธ์ออกมา\n",
    "ตรวจสอบว่า string ลงท้ายด้วย substring ที่กำหนดขึ้นเองโดยใช้ method ที่ชื่อว่า endswith() และทำการ print ผลลัพธ์ออกมา"
   ]
  },
  {
   "cell_type": "code",
   "execution_count": 44,
   "metadata": {},
   "outputs": [
    {
     "name": "stdout",
     "output_type": "stream",
     "text": [
      "Length of the string : 26\n",
      "First Character : C\n",
      "Last Characters : f\n",
      "First 5 Character : Contr\n",
      "Last 5 Character : elief\n",
      "String Concentenated with it self : Contrary to popular belief Hello_Dude\n",
      "Uppercase : CONTRARY TO POPULAR BELIEF\n",
      "Lowercase : contrary to popular belief\n",
      "String After Replacement : Ben10 to popular belief\n",
      "List of Word : ['Contrary', 'to', 'popular', 'belief']\n",
      "Joined String : Contrary to popular belief\n",
      "Starts with Contrary : False\n",
      "Starts with Contrary : True\n",
      "Ends with : False\n",
      "Ends with : True\n"
     ]
    }
   ],
   "source": [
    "text = 'Contrary to popular belief'\n",
    "text2 = 'Hello_Dude'\n",
    "split_text = text.split()\n",
    "replacement = text.replace('Contrary', 'Ben10')\n",
    "join_text = ' '.join(split_text)\n",
    "print(f'Length of the string : {len(text)}')\n",
    "print(f'First Character : {text[0]}')\n",
    "print(f'Last Characters : {text[-1]}')\n",
    "print(f'First 5 Character : {text[:5]}')\n",
    "print(f'Last 5 Character : {text[-5:]}')\n",
    "print(f'String Concentenated with it self : {text} {text2}')\n",
    "print(f'Uppercase : {text.upper()}')\n",
    "print(f'Lowercase : {text.lower()}')\n",
    "print(f'String After Replacement : {replacement}')\n",
    "print(f'List of Word : {split_text}')\n",
    "print(f'Joined String : {join_text}')\n",
    "print(f\"Starts with Contrary : {text.startswith('Hello')}\")\n",
    "print(f\"Starts with Contrary : {text.startswith('Contrary')}\")\n",
    "print(f\"Ends with : {text.endswith('what')}\")\n",
    "print(f\"Ends with : {text.endswith('belief')}\")\n",
    "\n"
   ]
  },
  {
   "cell_type": "code",
   "execution_count": null,
   "metadata": {},
   "outputs": [],
   "source": []
  }
 ],
 "metadata": {
  "kernelspec": {
   "display_name": "Python 3",
   "language": "python",
   "name": "python3"
  },
  "language_info": {
   "codemirror_mode": {
    "name": "ipython",
    "version": 3
   },
   "file_extension": ".py",
   "mimetype": "text/x-python",
   "name": "python",
   "nbconvert_exporter": "python",
   "pygments_lexer": "ipython3",
   "version": "3.10.8"
  }
 },
 "nbformat": 4,
 "nbformat_minor": 2
}
