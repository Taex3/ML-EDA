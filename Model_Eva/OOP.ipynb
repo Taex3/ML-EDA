{
 "cells": [
  {
   "cell_type": "code",
   "execution_count": 16,
   "metadata": {},
   "outputs": [],
   "source": [
    "class Fan:\n",
    "    def __init__(self, make, raduis, color):\n",
    "        self.make = make\n",
    "        self.raduis = raduis\n",
    "        self.color = color\n",
    "        self.speed = 0\n",
    "        self.is_on = False\n",
    "    def __repr__(self):\n",
    "        return repr((self.make, self.raduis, self.color, self.speed, self.is_on))\n",
    "    #method\n",
    "    def switch_on(self):\n",
    "        self.is_on = True\n",
    "        self.speed = 3\n",
    "    \n",
    "    def switch_off(self):\n",
    "        self.is_on = False\n",
    "        self.speed = 0\n",
    "    \n",
    "    def increase_speed(self):\n",
    "        if self.is_on and self.speed < 5:\n",
    "            self.speed += 1\n",
    "    \n",
    "    def decrease_speed(self):\n",
    "        if self.is_on and self.speed > 0:\n",
    "            self.speed -= 1"
   ]
  },
  {
   "cell_type": "code",
   "execution_count": 17,
   "metadata": {},
   "outputs": [],
   "source": [
    "fan = Fan(\"Manufacturer\", 5, \"blue\")"
   ]
  },
  {
   "cell_type": "code",
   "execution_count": 18,
   "metadata": {},
   "outputs": [
    {
     "name": "stdout",
     "output_type": "stream",
     "text": [
      "('Manufacturer', 5, 'blue', 0, False)\n"
     ]
    }
   ],
   "source": [
    "print(fan)"
   ]
  },
  {
   "cell_type": "code",
   "execution_count": 19,
   "metadata": {},
   "outputs": [
    {
     "name": "stdout",
     "output_type": "stream",
     "text": [
      "('Manufacturer', 5, 'blue', 3, True)\n"
     ]
    }
   ],
   "source": [
    "fan.switch_on()\n",
    "print(fan)"
   ]
  },
  {
   "cell_type": "code",
   "execution_count": 20,
   "metadata": {},
   "outputs": [
    {
     "name": "stdout",
     "output_type": "stream",
     "text": [
      "('Manufacturer', 5, 'blue', 4, True)\n"
     ]
    }
   ],
   "source": [
    "fan.increase_speed()\n",
    "print(fan)"
   ]
  },
  {
   "cell_type": "code",
   "execution_count": 21,
   "metadata": {},
   "outputs": [
    {
     "name": "stdout",
     "output_type": "stream",
     "text": [
      "('Manufacturer', 5, 'blue', 3, True)\n"
     ]
    }
   ],
   "source": [
    "fan.decrease_speed()\n",
    "print(fan)"
   ]
  },
  {
   "cell_type": "code",
   "execution_count": 22,
   "metadata": {},
   "outputs": [
    {
     "name": "stdout",
     "output_type": "stream",
     "text": [
      "('Manufacturer', 5, 'blue', 0, False)\n"
     ]
    }
   ],
   "source": [
    "fan.switch_off()\n",
    "print(fan)"
   ]
  }
 ],
 "metadata": {
  "kernelspec": {
   "display_name": "Python 3",
   "language": "python",
   "name": "python3"
  },
  "language_info": {
   "codemirror_mode": {
    "name": "ipython",
    "version": 3
   },
   "file_extension": ".py",
   "mimetype": "text/x-python",
   "name": "python",
   "nbconvert_exporter": "python",
   "pygments_lexer": "ipython3",
   "version": "3.10.8"
  }
 },
 "nbformat": 4,
 "nbformat_minor": 2
}
