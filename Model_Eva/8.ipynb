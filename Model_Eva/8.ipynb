{
 "cells": [
  {
   "cell_type": "markdown",
   "metadata": {},
   "source": [
    "ในแบบฝึกหัดนี้เราจะฝึกการกำหนดและใช้งาน Function เพื่อทำงานที่กำหนดไว้ Function เป็นบล็อกโค้ดที่สามารถนำมาใช้ซ้ำได้ สามารถรับ input ดำเนินการ และส่งค่า output ออกได้ การฝึกฝนนี้จะช่วยให้คุณ Declare Function การส่ง Argument และการส่งค่า output ออก\n",
    "\n",
    "Simple Functions:\n",
    "Define Function ชื่อว่า greet ที่รับ 1 parameter ชื่อว่า name และ print คำต้อนรับโดยมีชื่อในนั้นด้วย\n",
    "Call Function 'greet' โดยมีชื่อคุณเป็น argument และ print ผลลัพธ์ออกมา\n",
    "\n",
    "Function กับการ Return ค่า\n",
    "Define Function ชื่อว่า square ที่รับ 1 parameter ชื่อว่า num และ print ผลของการยกกำลังของตัวเลขนั้น\n",
    "Call Function 'square' โดยมี integer เป็น argument และ print ผลลัพธ์ออกมา\n",
    "\n",
    "Functions กับ Multiple Parameter\n",
    "Define Function ชื่อว่า sum_of_two ที่รับ 2 parameter ชื่อว่า num1 และ num2 หลังจากนั้น print ผลรวมของสองตัวเลขนั้น\n",
    "Call Function 'sum_of_two' โดยมี 2 integer เป็น argument และ print ผลลัพธ์ออกมา\n",
    "\n",
    "Functions กับ Default Parameter\n",
    "Define Function ชื่อว่า power ที่รับ 2 parameter ชื่อว่า baseและ exponent โดยให้ exponent มีค่า default เป็น 2\n",
    "ใน function 'power' ทำการคำนวณและ return ผลลัพธ์ของ base ยกกำลัง exponent\n",
    "Call Function 'power' โดยมี argument 'base' เพียงอย่างเดียว และ print ผลลัพธ์ออกมา\n",
    "Call Function 'power' โดยมี argument 'base' และ 'exponent' หลังจากนั้น ทำการ print ผลลัพธ์ออกมา\n",
    "\n",
    "Functions ในการหาค่าเฉลี่ย\n",
    "Define Function ชื่อว่า average ที่รับ 4 parameter โดยกำหนดให้ return ค่าเฉลี่ยของ 4 ตัวเลขนี้\n",
    "Call Function 'average' โดยมี 4 integer เป็น argument และ print ผลลัพธ์ออกมา"
   ]
  },
  {
   "cell_type": "code",
   "execution_count": 16,
   "metadata": {},
   "outputs": [
    {
     "name": "stdout",
     "output_type": "stream",
     "text": [
      "Greeting: Hello, Tae!\n"
     ]
    }
   ],
   "source": [
    "def greet(name):\n",
    "    print(f'Greeting: Hello, {name}!')\n",
    "greet('Tae')"
   ]
  },
  {
   "cell_type": "code",
   "execution_count": 11,
   "metadata": {},
   "outputs": [
    {
     "name": "stdout",
     "output_type": "stream",
     "text": [
      "Square of 5: 25\n"
     ]
    },
    {
     "data": {
      "text/plain": [
       "25"
      ]
     },
     "execution_count": 11,
     "metadata": {},
     "output_type": "execute_result"
    }
   ],
   "source": [
    "def square(num):\n",
    "    result = num**2\n",
    "    print(f'Square of {num}: {result}')\n",
    "    return result\n",
    "square(5)"
   ]
  },
  {
   "cell_type": "code",
   "execution_count": 19,
   "metadata": {},
   "outputs": [
    {
     "data": {
      "text/plain": [
       "7"
      ]
     },
     "execution_count": 19,
     "metadata": {},
     "output_type": "execute_result"
    }
   ],
   "source": [
    "def sum_of_two1(num3,num4):\n",
    "    return num3+num4\n",
    "    \n",
    "sum_of_two1(3,4)\n",
    "    "
   ]
  },
  {
   "cell_type": "code",
   "execution_count": 17,
   "metadata": {},
   "outputs": [
    {
     "name": "stdout",
     "output_type": "stream",
     "text": [
      "Sum of 4 and 8: 12\n"
     ]
    }
   ],
   "source": [
    "def sum_of_two(num1,num2):\n",
    "    result = num1+num2\n",
    "    print(f'Sum of {num1} and {num2}: {result}')\n",
    "    \n",
    "sum_of_two(4,8)"
   ]
  },
  {
   "cell_type": "code",
   "execution_count": 29,
   "metadata": {},
   "outputs": [
    {
     "name": "stdout",
     "output_type": "stream",
     "text": [
      "Power of 3 to the power of 2: 9\n",
      "Power of 3 to the power of 3: 27\n"
     ]
    }
   ],
   "source": [
    "def power(base,exponent=2):\n",
    "    result = base**exponent\n",
    "    print(f'Power of {base} to the power of {exponent}: {result}')\n",
    "\n",
    "power(3)\n",
    "power(3,3)\n"
   ]
  },
  {
   "cell_type": "code",
   "execution_count": 30,
   "metadata": {},
   "outputs": [
    {
     "name": "stdout",
     "output_type": "stream",
     "text": [
      "25.0\n"
     ]
    }
   ],
   "source": [
    "def average(a,b,c,d):\n",
    "    result = ((a+b+c+d)/4)\n",
    "    return result\n",
    "print(average(10, 20, 30, 40))  "
   ]
  },
  {
   "cell_type": "code",
   "execution_count": null,
   "metadata": {},
   "outputs": [],
   "source": []
  }
 ],
 "metadata": {
  "kernelspec": {
   "display_name": "Python 3",
   "language": "python",
   "name": "python3"
  },
  "language_info": {
   "codemirror_mode": {
    "name": "ipython",
    "version": 3
   },
   "file_extension": ".py",
   "mimetype": "text/x-python",
   "name": "python",
   "nbconvert_exporter": "python",
   "pygments_lexer": "ipython3",
   "version": "3.10.8"
  }
 },
 "nbformat": 4,
 "nbformat_minor": 2
}
