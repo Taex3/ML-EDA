{
 "cells": [
  {
   "cell_type": "code",
   "execution_count": 2,
   "metadata": {},
   "outputs": [
    {
     "name": "stdout",
     "output_type": "stream",
     "text": [
      "get materials\n",
      "execute the steps\n"
     ]
    }
   ],
   "source": [
    "from abc import ABC, abstractmethod\n",
    "\n",
    "class AbstractRecipe(ABC):\n",
    "    \n",
    "    def execute(self):\n",
    "        self.prepare()\n",
    "        self.recipe()\n",
    "        self.cleanup()\n",
    "    \n",
    "    @abstractmethod\n",
    "    def prepare(self): pass\n",
    "\n",
    "    @abstractmethod\n",
    "    def recipe(self): pass\n",
    "\n",
    "    @abstractmethod\n",
    "    def cleanup(self): pass\n",
    "\n",
    "class Recipe1(AbstractRecipe):\n",
    "\n",
    "    def prepare(self):\n",
    "        print('get materials')\n",
    "    \n",
    "    def recipe(self):\n",
    "        print(\"execute the steps\")\n",
    "    \n",
    "    def cleanup(self): pass \n",
    "\n",
    "Recipe1().execute()"
   ]
  },
  {
   "cell_type": "code",
   "execution_count": null,
   "metadata": {},
   "outputs": [],
   "source": []
  }
 ],
 "metadata": {
  "kernelspec": {
   "display_name": "Python 3",
   "language": "python",
   "name": "python3"
  },
  "language_info": {
   "codemirror_mode": {
    "name": "ipython",
    "version": 3
   },
   "file_extension": ".py",
   "mimetype": "text/x-python",
   "name": "python",
   "nbconvert_exporter": "python",
   "pygments_lexer": "ipython3",
   "version": "3.10.8"
  }
 },
 "nbformat": 4,
 "nbformat_minor": 2
}
