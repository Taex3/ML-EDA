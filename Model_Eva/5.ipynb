{
 "cells": [
  {
   "cell_type": "markdown",
   "metadata": {},
   "source": [
    "ในแบบฝึกหัดนี้เราจะฝึกใช้ for loops เพื่อทำการวนลูปผ่านลำดับของข้อมูลและทำงานต่าง ๆ \n",
    "For loops ถูกใช้เพื่อวนลูปผ่าน Data Type ใดก็ได้ เช่น Lists, Tuples, Strings และ Dictionaries การฝึกฝนนี้จะช่วยให้คุณเรียนรู้การเขียนและใช้ for loops เ\n",
    "\n",
    "Declare list ชื่อว่า numbers และ assign ค่า integer โดยมีเลข 1 ถึง 5\n",
    "เขียน for loop เพื่อวน element ใน list และ print แต่ละ element ออกมา\n",
    "Declare string ชื่อว่า word และ assign ค่า\n",
    "เขียน for loop เพื่อวนตัวอักษรใน string และ print แต่ละ character ออกมา\n",
    "เขียน for loop เพื่อหาผลรวมของเลขทั้งหมดที่อยู่ใน numbers และ print ผลรวมออกมา\n",
    "เขียน Nested for loop เพื่อแสดงการจับคู่ที่เป็นไปได้ทั้งหมดของ 2 list โดย\n",
    "Declare list 2 lists: colors และ shapes โดยให้ colors เป็นชื่อของสีต่างๆ และ shapes เป็นชื่อของรูปร่างต่างๆ\n",
    "ใช้ Nested for loop เพื่อ print การจับคู่ที่เป็นไปได้ของสีและรูปร่างทั้งหมดออกมา\n"
   ]
  },
  {
   "cell_type": "code",
   "execution_count": 23,
   "metadata": {},
   "outputs": [
    {
     "name": "stdout",
     "output_type": "stream",
     "text": [
      "1\n",
      "2\n",
      "3\n",
      "4\n",
      "5\n"
     ]
    }
   ],
   "source": [
    "numbers = [1,2,3,4,5]\n",
    "\n",
    "for i in numbers:\n",
    "    print(i)\n"
   ]
  },
  {
   "cell_type": "code",
   "execution_count": 27,
   "metadata": {},
   "outputs": [
    {
     "name": "stdout",
     "output_type": "stream",
     "text": [
      "w\n",
      "o\n",
      "r\n",
      "d\n"
     ]
    }
   ],
   "source": [
    "x = 'word'\n",
    "\n",
    "for i in x:\n",
    "    print(i)"
   ]
  },
  {
   "cell_type": "code",
   "execution_count": 3,
   "metadata": {},
   "outputs": [
    {
     "name": "stdout",
     "output_type": "stream",
     "text": [
      "15\n"
     ]
    }
   ],
   "source": [
    "sum_numbers = [1,2,3,4,5]\n",
    "total = 0\n",
    "\n",
    "for i in sum_numbers:\n",
    "    total += i \n",
    "\n",
    "print(total)"
   ]
  },
  {
   "cell_type": "code",
   "execution_count": 4,
   "metadata": {},
   "outputs": [
    {
     "name": "stdout",
     "output_type": "stream",
     "text": [
      "RedCircle\n",
      "RedSquare\n",
      "RedTriangle\n",
      "OrangeCircle\n",
      "OrangeSquare\n",
      "OrangeTriangle\n"
     ]
    }
   ],
   "source": [
    "color = ['Red', 'Orange']\n",
    "shapes = ['Circle', 'Square', 'Triangle']\n",
    "\n",
    "for i in color:\n",
    "    for j in shapes:\n",
    "        print(i + j)"
   ]
  },
  {
   "cell_type": "code",
   "execution_count": 6,
   "metadata": {},
   "outputs": [
    {
     "name": "stdout",
     "output_type": "stream",
     "text": [
      "redcircle\n",
      "redsquare\n",
      "redtriangle\n",
      "bluecircle\n",
      "bluesquare\n",
      "bluetriangle\n",
      "greencircle\n",
      "greensquare\n",
      "greentriangle\n"
     ]
    }
   ],
   "source": [
    "colors = ['red', 'blue', 'green']\n",
    "shapes = ['circle', 'square', 'triangle']\n",
    "\n",
    "# List comprehension เพื่อสร้าง list ที่รวม x และ y เข้าด้วยกัน\n",
    "color_shapes = [x + y for x in colors for y in shapes]\n",
    "\n",
    "# พิมพ์ผลลัพธ์\n",
    "for cs in color_shapes:\n",
    "    print(cs)\n"
   ]
  },
  {
   "cell_type": "code",
   "execution_count": 1,
   "metadata": {},
   "outputs": [
    {
     "name": "stdout",
     "output_type": "stream",
     "text": [
      "[2, 4]\n"
     ]
    }
   ],
   "source": [
    "Numbers = [1,2,3,4,5]\n",
    "even_number = []\n",
    "\n",
    "for i in Numbers:\n",
    "    if i % 2 == 0 :\n",
    "        even_number.append(i)\n",
    "print(even_number)"
   ]
  }
 ],
 "metadata": {
  "kernelspec": {
   "display_name": "Python 3",
   "language": "python",
   "name": "python3"
  },
  "language_info": {
   "codemirror_mode": {
    "name": "ipython",
    "version": 3
   },
   "file_extension": ".py",
   "mimetype": "text/x-python",
   "name": "python",
   "nbconvert_exporter": "python",
   "pygments_lexer": "ipython3",
   "version": "3.10.8"
  }
 },
 "nbformat": 4,
 "nbformat_minor": 2
}
