{
 "cells": [
  {
   "cell_type": "markdown",
   "metadata": {},
   "source": [
    "ในแบบฝึกหัดนี้เราจะฝึกใช้ทั้ง for และ while loops เพื่อทำการวนรอบและดำเนินงานตามเงื่อนไขที่ระบุ การใช้ for loops มักใช้เมื่อคุณทราบจำนวนการวนรอบล่วงหน้า ในขณะที่ while loops จะถูกใช้เมื่อคุณต้องการที่จะวนรอบจนกว่าเงื่อนไขบางอย่างจะถูก การฝึกนี้จะช่วยให้คุณรู้วิธีการเขียนและการใช้งานทั้งสองประเภทของลูป\n",
    "\n",
    "แบบฝึกหัด While Loop\n",
    "Declare variable ชื่อว่า count และ assign ค่าเริ่มต้นที่ 0\n",
    "ทำการสร้าง while loop เพื่อ print ค่าของ count จาก 0 ถึง 4\n",
    "ให้เพิ่ม 1 ไปที่ count ทุก iteration ของ while loop\n",
    "while loop จะต้องคำนวณหาผลรวมของตัวเลข 1 ถึง 5 และเก็บไว้ใน variable ชื่อว่า total\n",
    "Print ค่าของ total หลังจากที่ while loop จบการทำงาน\n",
    "\n",
    "รวม For Loop และ While Loop เข้าด้วยกัน\n",
    "1. Declare list ชื่อว่า colors และให้มีชื่อของสีต่างๆอยู่ในนั้น\n",
    "2. เขียน for loop เพื่อวนไปที่แต่ละ element ของ list colors\n",
    "3. ใน for loop ให้เขียน while loop ด้านไหนเพื่อ print ตัวอักษรของแต่ละสีออกมา"
   ]
  },
  {
   "cell_type": "code",
   "execution_count": 4,
   "metadata": {},
   "outputs": [
    {
     "name": "stdout",
     "output_type": "stream",
     "text": [
      "Count: 0\n",
      "Count: 1\n",
      "Count: 2\n",
      "Count: 3\n",
      "Count: 4\n"
     ]
    }
   ],
   "source": [
    "count = 0\n",
    "\n",
    "while count < 5:\n",
    "    print (count)\n",
    "    count += 1"
   ]
  },
  {
   "cell_type": "code",
   "execution_count": 6,
   "metadata": {},
   "outputs": [
    {
     "name": "stdout",
     "output_type": "stream",
     "text": [
      "0\n",
      "1\n",
      "2\n",
      "3\n",
      "4\n",
      "Total: 15\n"
     ]
    }
   ],
   "source": [
    "count = 0\n",
    "total = 0\n",
    "while count < 5:\n",
    "    print (count)\n",
    "    count += 1\n",
    "    total += count\n",
    "print(f'Total: {total}')"
   ]
  },
  {
   "cell_type": "code",
   "execution_count": 1,
   "metadata": {},
   "outputs": [
    {
     "name": "stdout",
     "output_type": "stream",
     "text": [
      "['White', 'Blue']\n",
      "White\n",
      "W\n",
      "h\n",
      "i\n",
      "t\n",
      "e\n",
      "\n",
      "Blue\n",
      "B\n",
      "l\n",
      "u\n",
      "e\n",
      "\n"
     ]
    }
   ],
   "source": [
    "colors = ['White', 'Blue']\n",
    "print(colors)\n",
    "\n",
    "for i in colors:\n",
    "    print(i)\n",
    "\n",
    "    index = 0\n",
    "    while index < len(i):\n",
    "        print(i[index])\n",
    "        index += 1\n",
    "    print() \n",
    "        "
   ]
  },
  {
   "cell_type": "code",
   "execution_count": null,
   "metadata": {},
   "outputs": [],
   "source": []
  }
 ],
 "metadata": {
  "kernelspec": {
   "display_name": "Python 3",
   "language": "python",
   "name": "python3"
  },
  "language_info": {
   "codemirror_mode": {
    "name": "ipython",
    "version": 3
   },
   "file_extension": ".py",
   "mimetype": "text/x-python",
   "name": "python",
   "nbconvert_exporter": "python",
   "pygments_lexer": "ipython3",
   "version": "3.10.8"
  }
 },
 "nbformat": 4,
 "nbformat_minor": 2
}
