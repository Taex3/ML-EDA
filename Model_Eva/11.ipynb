{
 "cells": [
  {
   "cell_type": "code",
   "execution_count": 5,
   "metadata": {},
   "outputs": [],
   "source": [
    "import uuid\n",
    "from datetime import datetime\n",
    "\n",
    "class BankAccount:\n",
    "    def __init__(self, owner_name):\n",
    "        self.account_number = str(uuid.uuid4().int)[:6]\n",
    "        self.balance = 0\n",
    "        self.owner_name = owner_name\n",
    "        self.transactions = []  \n",
    "\n",
    "    def deposit(self, amount):\n",
    "        if amount > 0:\n",
    "            self.balance += amount\n",
    "            self.transactions.append([\n",
    "                datetime.now(),  \n",
    "                'Deposit',       \n",
    "                amount          \n",
    "            ])\n",
    "        else:\n",
    "            print(\"Invalid deposit amount!\")\n",
    "\n",
    "    def withdraw(self, amount):\n",
    "        if amount > 0:\n",
    "            if amount <= self.balance:\n",
    "                self.balance -= amount\n",
    "                self.transactions.append([\n",
    "                    datetime.now(),  \n",
    "                    'Withdrawal',    \n",
    "                    amount           \n",
    "                ])\n",
    "            else:\n",
    "                print(\"Insufficient funds!\")\n",
    "        else:\n",
    "            print(\"Invalid withdrawal amount!\")\n",
    "\n",
    "    def get_balance(self):\n",
    "        return self.balance\n",
    "\n",
    "    def get_account_number(self):\n",
    "        return self.account_number\n",
    "\n",
    "    def get_owner_name(self):\n",
    "        return self.owner_name\n",
    "\n",
    "    def display_transaction_history(self):\n",
    "        for transaction in self.transactions:\n",
    "            print(f\"Timestamp: {transaction[0]}, Type: {transaction[1]}, Amount: ${transaction[2]}\")\n",
    "\n",
    "class SavingsAccount(BankAccount):\n",
    "    def __init__(self, owner_name, interest_rate):\n",
    "        super().__init__(owner_name)\n",
    "        self.interest_rate = interest_rate\n",
    "\n",
    "    def add_interest(self):\n",
    "        interest = self.balance * self.interest_rate\n",
    "        self.deposit(interest)\n",
    "\n"
   ]
  },
  {
   "cell_type": "code",
   "execution_count": 7,
   "metadata": {},
   "outputs": [
    {
     "name": "stdout",
     "output_type": "stream",
     "text": [
      "Balance: 2000\n",
      "Balance: 2100.0\n",
      "Account Number: 801519\n",
      "Owner Name: John Doe\n",
      "Balance: 1000\n",
      "Balance: 500\n",
      "Insufficient funds!\n",
      "Timestamp: 2024-09-08 01:53:59.674479, Type: Deposit, Amount: $1000\n",
      "Timestamp: 2024-09-08 01:53:59.674479, Type: Withdrawal, Amount: $500\n"
     ]
    }
   ],
   "source": [
    "savings_account = SavingsAccount(\"Jane Smith\", interest_rate=0.05)\n",
    "savings_account.deposit(2000)\n",
    "print(\"Balance:\", savings_account.get_balance())\n",
    "savings_account.add_interest()\n",
    "print(\"Balance:\", savings_account.get_balance())\n",
    "\n",
    "account1 = BankAccount(\"John Doe\")\n",
    "print(\"Account Number:\", account1.get_account_number())\n",
    "print(\"Owner Name:\", account1.get_owner_name())\n",
    "\n",
    "account1.deposit(1000)\n",
    "print(\"Balance:\", account1.get_balance())\n",
    "account1.withdraw(500)\n",
    "print(\"Balance:\", account1.get_balance())\n",
    "\n",
    "account1.withdraw(600)\n",
    "\n",
    "account1.display_transaction_history()"
   ]
  }
 ],
 "metadata": {
  "kernelspec": {
   "display_name": "Python 3",
   "language": "python",
   "name": "python3"
  },
  "language_info": {
   "codemirror_mode": {
    "name": "ipython",
    "version": 3
   },
   "file_extension": ".py",
   "mimetype": "text/x-python",
   "name": "python",
   "nbconvert_exporter": "python",
   "pygments_lexer": "ipython3",
   "version": "3.10.8"
  }
 },
 "nbformat": 4,
 "nbformat_minor": 2
}
