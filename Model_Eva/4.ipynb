{
  "cells": [
    {
      "cell_type": "code",
      "execution_count": 3,
      "metadata": {
        "colab": {
          "base_uri": "https://localhost:8080/"
        },
        "id": "alefnT5G1ndR",
        "outputId": "91fc0c42-1eef-4961-b66f-83e39d065bc6"
      },
      "outputs": [
        {
          "name": "stdout",
          "output_type": "stream",
          "text": [
            "Number : -100\n",
            "Negative Number\n"
          ]
        }
      ],
      "source": [
        "num = int(input(\"Number : \"))\n",
        "\n",
        "if num > 0:\n",
        "    print(\"Postive Number\")\n",
        "elif num < 0:\n",
        "    print(\"Negative Number\")\n",
        "else:\n",
        "    print(\"Zero\")"
      ]
    },
    {
      "cell_type": "code",
      "execution_count": 4,
      "metadata": {
        "colab": {
          "base_uri": "https://localhost:8080/"
        },
        "id": "U9rH51uB17LK",
        "outputId": "a513bd81-fb7f-46ad-e743-352f4a6266ac"
      },
      "outputs": [
        {
          "name": "stdout",
          "output_type": "stream",
          "text": [
            "Number : 71\n",
            "Odd Number\n"
          ]
        }
      ],
      "source": [
        "num2 = int(input(\"Number : \"))\n",
        "\n",
        "if num2 % 2 == 0:\n",
        "    print(\"Even Number\")\n",
        "else:\n",
        "    print(\"Odd Number\")"
      ]
    },
    {
      "cell_type": "code",
      "execution_count": 5,
      "metadata": {
        "colab": {
          "base_uri": "https://localhost:8080/"
        },
        "id": "IuJ4mlGl2Cf0",
        "outputId": "9978476a-0305-43b4-cede-07eafed640a8"
      },
      "outputs": [
        {
          "name": "stdout",
          "output_type": "stream",
          "text": [
            "Grade : 89\n",
            "B\n"
          ]
        }
      ],
      "source": [
        "grade = int(input(\"Grade : \"))\n",
        "if 0 <= grade <= 100:\n",
        "    if 90 <= grade <= 100:\n",
        "        print(\"A\")\n",
        "    elif 80 <= grade <= 89:\n",
        "        print(\"B\")\n",
        "    elif 70 <= grade <= 79:\n",
        "        print(\"C\")\n",
        "    elif 60 <= grade <= 69:\n",
        "        print(\"D\")\n",
        "    elif grade < 60 :\n",
        "        print(\"F\")\n",
        "else:\n",
        "    print(\"Only Number 0-100\")"
      ]
    },
    {
      "cell_type": "code",
      "execution_count": 12,
      "metadata": {
        "colab": {
          "base_uri": "https://localhost:8080/"
        },
        "id": "mSQIeyl_2GNu",
        "outputId": "e825007d-a84f-4a10-8bb5-10ce31484db1"
      },
      "outputs": [
        {
          "name": "stdout",
          "output_type": "stream",
          "text": [
            "x : -3\n",
            "y : 4\n",
            "x is not positive\n"
          ]
        }
      ],
      "source": [
        "x =  int(input(\"x : \"))\n",
        "y =  int(input(\"y : \"))\n",
        "\n",
        "if x > 0:\n",
        "  if y > 0:\n",
        "    print(\"Both x and y are positive\")\n",
        "  else:\n",
        "    print(\"Only x is positive\")\n",
        "else:\n",
        "  print(\"x is not positive\")"
      ]
    }
  ],
  "metadata": {
    "colab": {
      "provenance": []
    },
    "kernelspec": {
      "display_name": "Python 3",
      "name": "python3"
    },
    "language_info": {
      "name": "python",
      "version": "3.10.8"
    }
  },
  "nbformat": 4,
  "nbformat_minor": 0
}
