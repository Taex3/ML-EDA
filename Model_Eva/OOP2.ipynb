{
 "cells": [
  {
   "cell_type": "code",
   "execution_count": 1,
   "metadata": {},
   "outputs": [
    {
     "name": "stdout",
     "output_type": "stream",
     "text": [
      "Engine started\n",
      "Car is driving\n",
      "4\n"
     ]
    }
   ],
   "source": [
    "class Engine:\n",
    "    def start_engine(self):\n",
    "        return \"Engine started\"\n",
    "class Wheels:\n",
    "    def number_of_wheels(self):\n",
    "        return 4\n",
    "class Car (Engine, Wheels):\n",
    "    def drive(self):\n",
    "        return \"Car is driving\"\n",
    "\n",
    "Vehicle = Car()\n",
    "\n",
    "result_start = Vehicle.start_engine()\n",
    "print(result_start)\n",
    "\n",
    "result_drive = Vehicle.drive()\n",
    "print(result_drive)\n",
    "\n",
    "num_wheel_vehicle = Vehicle.number_of_wheels()\n",
    "print(num_wheel_vehicle)\n"
   ]
  }
 ],
 "metadata": {
  "kernelspec": {
   "display_name": "Python 3",
   "language": "python",
   "name": "python3"
  },
  "language_info": {
   "codemirror_mode": {
    "name": "ipython",
    "version": 3
   },
   "file_extension": ".py",
   "mimetype": "text/x-python",
   "name": "python",
   "nbconvert_exporter": "python",
   "pygments_lexer": "ipython3",
   "version": "3.10.8"
  }
 },
 "nbformat": 4,
 "nbformat_minor": 2
}
