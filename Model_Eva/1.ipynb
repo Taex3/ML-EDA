{
 "cells": [
  {
   "cell_type": "markdown",
   "metadata": {},
   "source": [
    "แบบฝึกหัด\n",
    "\n",
    "ในแบบฝึกหัดนี้เราจะฝึกเรื่อง concept ของ variable \n",
    "Variable มีหน้าที่ในการจัดเก็บข้อมูลไปที่ memory สามารถจัดเก็บ type ของข้อมูลได้หลากหลายไม่ว่าจะเป็น numbers, string หรือข้อมูลประเภทอื่นๆ แบบฝึกหัดนี้จะทำให้เข้าใจเรื่องของการ declare variable และการ manipulate variable\n",
    "\n",
    "Declare variable ชื่อว่า name และ assign ชื่อของคุณลงไป\n",
    "Declare variable ชื่อว่า age และ assign อายุของคุณลงไป\n",
    "Declare variable ชื่อว่า country และ assign ประเทศของคุณลงไป\n",
    "Print ค่าของ variable ทั้ง 3 ค่าออกมาโดยใช้วิธี print แบบ formatting string (fstring)\n",
    "คำนวณหาปีเกิดโดยใช้อายุของคุณและปีปัจจุบันในการคำนวณ และใส่ค่าเข้าไปใน variable ที่ชื่อว่า birth_year\n",
    "เปลี่ยนค่า age ให้เป็นตัวเลขอื่น และ print ค่าใหม่ของ age ออกมา\n",
    "Declare variable ชื่อว่า years_to_add และให้ variable นี้มีค่าเท่ากับ 5\n",
    "บวก years_to_add เข้ากับ age และทำการ print ออกมา"
   ]
  },
  {
   "cell_type": "code",
   "execution_count": 3,
   "metadata": {},
   "outputs": [
    {
     "name": "stdout",
     "output_type": "stream",
     "text": [
      "My name is Tae. i am 22 year old and i living in Thailand \n"
     ]
    }
   ],
   "source": [
    "name = 'Tae'\n",
    "Age = int(22)\n",
    "Country = 'Thailand'\n",
    "print(f'My name is {name}. i am {Age} year old and i living in {Country} ')"
   ]
  },
  {
   "cell_type": "code",
   "execution_count": 4,
   "metadata": {},
   "outputs": [
    {
     "name": "stdout",
     "output_type": "stream",
     "text": [
      "My name is Tae. i was born in 2002 \n"
     ]
    }
   ],
   "source": [
    "current_year = 2024\n",
    "Birth_year = current_year - Age\n",
    "print(f'My name is {name}. i was born in {Birth_year} ')"
   ]
  },
  {
   "cell_type": "code",
   "execution_count": 5,
   "metadata": {},
   "outputs": [
    {
     "name": "stdout",
     "output_type": "stream",
     "text": [
      "24\n"
     ]
    }
   ],
   "source": [
    "Age = 24\n",
    "print(Age)"
   ]
  },
  {
   "cell_type": "code",
   "execution_count": 6,
   "metadata": {},
   "outputs": [
    {
     "name": "stdout",
     "output_type": "stream",
     "text": [
      "29\n"
     ]
    }
   ],
   "source": [
    "years_to_add = 5\n",
    "Age += years_to_add\n",
    "print(Age)"
   ]
  },
  {
   "cell_type": "code",
   "execution_count": 2,
   "metadata": {},
   "outputs": [
    {
     "name": "stdout",
     "output_type": "stream",
     "text": [
      "True\n"
     ]
    }
   ],
   "source": [
    "i =20 \n",
    "print(i == 20)"
   ]
  },
  {
   "cell_type": "code",
   "execution_count": null,
   "metadata": {},
   "outputs": [],
   "source": []
  }
 ],
 "metadata": {
  "kernelspec": {
   "display_name": "Python 3",
   "language": "python",
   "name": "python3"
  },
  "language_info": {
   "codemirror_mode": {
    "name": "ipython",
    "version": 3
   },
   "file_extension": ".py",
   "mimetype": "text/x-python",
   "name": "python",
   "nbconvert_exporter": "python",
   "pygments_lexer": "ipython3",
   "version": "3.10.8"
  }
 },
 "nbformat": 4,
 "nbformat_minor": 2
}
