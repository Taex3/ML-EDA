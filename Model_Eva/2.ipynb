{
 "cells": [
  {
   "cell_type": "markdown",
   "metadata": {},
   "source": [
    "ในแบบฝึกหัดนี้เราจะฝึกเรื่อง ตัวเลข boolean และ operation ประเภทต่างๆที่จะทำงานกับข้อมูลเหล่านี้ได้ \n",
    "Numbers ใน Python สามารถเป็นได้ทั้ง integers, floats หรือตัวเลขที่มีความซับซ้อน และ boolean มีค่าเป็น True หรือ False\n",
    "แบบฝึกหัดนี้จะทำให้เข้าใจเรื่องของ basic operations เช่น arithmetic การเปรียบเทียบ  และ logical oprations กับ numbers และ booleans\n",
    "\n",
    "Declare variable 2 vairables 'num1' และ 'num2' และให้มีลักษณะเป็น integer\n",
    "ทำการคำนวณโดยใช้ arithmetic operations ด้านล่างและทำการ print ผลลัพธ์ออกมา\n",
    "Addition (+)\n",
    "Subtraction (-)\n",
    "Multiplication (*)\n",
    "Division (/)\n",
    "Floor Division (//)\n",
    "Exponentiation (**)\n",
    "Modulo (%)\n",
    "3. Declare variable ชื่อว่า 'bool1' และ assign ค่าให้เป็น boolean value (True หรือ False)\n",
    "4. ทำการหาผลลัพธ์ของ logical operations และ print ผลลัพธ์\n",
    "AND (and)\n",
    "OR (or)\n",
    "NOT (not)\n",
    "5. Declare variable อีก 2 ตัว 'num3' และ 'num4' หลังจากนั้น assign ค่าให้มีลักษณะเป็น float\n",
    "6. ทำการคำนวณโดยใช้ arithmetic operations และ print ผลลัพธ์ออกมา\n",
    "7. ทำการเปรียบเทียบโดยใช้ comparison operators:\n",
    "เปรียบเทียบ num1 และ num2 โดยใช้ equality (`==`) และ inequality ('!=') operator\n",
    "เปรียบเทียบ num3 และ num4 โดยใช้เครื่องหมายมากกว่า ('>') เครื่องหมายน้อยกว่า ('<') เครื่องหมายมากกว่าหรือเท่ากับ ('>=') และเครื่องหมายน้อยกว่าหรือเท่ากับ ('<=')"
   ]
  },
  {
   "cell_type": "code",
   "execution_count": 37,
   "metadata": {},
   "outputs": [
    {
     "name": "stdout",
     "output_type": "stream",
     "text": [
      "Arithmetic operations: \n",
      " Addition: 4 + 2 =  6\n",
      " Subtraction: 4 - 2 =  2\n",
      " Multiplication: 4 * 2 =  8\n",
      " Division: 4 / 2 =  2.0\n",
      " Floor Division: 4 // 2 =  2\n",
      " Exponentiation: 4 ** 2 =  16\n",
      " Modulo: 4 % 2 =  0\n"
     ]
    }
   ],
   "source": [
    "num1 = int(4)\n",
    "num2 = int(2)\n",
    "\n",
    "print(f'Arithmetic operations: \\n Addition: {num1} + {num2} = ', num1 + num2)\n",
    "print(f' Subtraction: {num1} - {num2} = ', num1 - num2)\n",
    "print(f' Multiplication: {num1} * {num2} = ', num1 * num2)\n",
    "print(f' Division: {num1} / {num2} = ', num1 / num2)\n",
    "print(f' Floor Division: {num1} // {num2} = ', num1 // num2)\n",
    "print(f' Exponentiation: {num1} ** {num2} = ', num1 ** num2)\n",
    "print(f' Modulo: {num1} % {num2} = ', num1 % num2)\n"
   ]
  },
  {
   "cell_type": "code",
   "execution_count": 28,
   "metadata": {},
   "outputs": [
    {
     "name": "stdout",
     "output_type": "stream",
     "text": [
      "Logical Operations: \n",
      " AND: True and False = False\n",
      " Or:  True or False = True\n",
      " Not: True not False = False\n"
     ]
    }
   ],
   "source": [
    "bool1 = True\n",
    "\n",
    "print(f'Logical Operations: \\n AND: {bool1} and False =', bool1 and False )\n",
    "print(f' Or:  {bool1} or False =', bool1 or False )\n",
    "print(f' Not: {bool1} not False =', not bool1 )\n"
   ]
  },
  {
   "cell_type": "code",
   "execution_count": 31,
   "metadata": {},
   "outputs": [
    {
     "name": "stdout",
     "output_type": "stream",
     "text": [
      "Arithmetic operations: \n",
      " Addition: 10.25 + 2.35 =  12.6\n",
      " Subtraction: 10.25 - 2.35 =  7.9\n",
      " Multiplication: 10.25 * 2.35 =  24.087500000000002\n",
      " Division: 10.25 / 2.35 =  4.361702127659575\n",
      " Floor Division: 10.25 // 2.35 =  4.0\n",
      " Exponentiation: 10.25 ** 2.35 =  237.2471934993603\n",
      " Modulo: 10.25 % 2.35 =  0.8499999999999996\n"
     ]
    }
   ],
   "source": [
    "num3 = float(10.25)\n",
    "num4 = float(2.35)\n",
    "\n",
    "print(f'Arithmetic operations: \\n Addition: {num3} + {num4} = ', num3 + num4)\n",
    "print(f' Subtraction: {num3} - {num4} = ', num3 - num4)\n",
    "print(f' Multiplication: {num3} * {num4} = ', num3 * num4)\n",
    "print(f' Division: {num3} / {num4} = ', num3 / num4)\n",
    "print(f' Floor Division: {num3} // {num4} = ', num3 // num4)\n",
    "print(f' Exponentiation: {num3} ** {num4} = ', num3 ** num4)\n",
    "print(f' Modulo: {num3} % {num4} = ', num3 % num4)"
   ]
  },
  {
   "cell_type": "code",
   "execution_count": 38,
   "metadata": {},
   "outputs": [
    {
     "name": "stdout",
     "output_type": "stream",
     "text": [
      "Comparison Operations: \n",
      " 4 == 2:  False\n",
      " 4 != 2: True\n",
      " 10.25 > 2.35: True\n",
      " 10.25 < 2.35: False\n",
      " 10.25 >= 2.35: True\n",
      " 10.25 <= 2.35: False\n"
     ]
    }
   ],
   "source": [
    "print(f'Comparison Operations: \\n {num1} == {num2}: ', num1 == num2)\n",
    "print(f' {num1} != {num2}:', num1 != num2)\n",
    "print(f' {num3} > {num4}:', num3 > num4)\n",
    "print(f' {num3} < {num4}:', num3 < num4)\n",
    "print(f' {num3} >= {num4}:', num3 >= num4)\n",
    "print(f' {num3} <= {num4}:', num3 <= num4)\n"
   ]
  },
  {
   "cell_type": "code",
   "execution_count": null,
   "metadata": {},
   "outputs": [],
   "source": []
  }
 ],
 "metadata": {
  "kernelspec": {
   "display_name": "Python 3",
   "language": "python",
   "name": "python3"
  },
  "language_info": {
   "codemirror_mode": {
    "name": "ipython",
    "version": 3
   },
   "file_extension": ".py",
   "mimetype": "text/x-python",
   "name": "python",
   "nbconvert_exporter": "python",
   "pygments_lexer": "ipython3",
   "version": "3.10.8"
  }
 },
 "nbformat": 4,
 "nbformat_minor": 2
}
